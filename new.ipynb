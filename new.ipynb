{
 "cells": [
  {
   "cell_type": "code",
   "execution_count": 1,
   "metadata": {},
   "outputs": [
    {
     "name": "stdout",
     "output_type": "stream",
     "text": [
      "   Battery capacity (mAh)  Screen size (inches) Touchscreen  Resolution x  \\\n",
      "0                    4085                  6.67         Yes          1440   \n",
      "1                    4000                  6.50         Yes          1080   \n",
      "2                    3969                  6.50         Yes          1242   \n",
      "3                    3110                  6.10         Yes           828   \n",
      "4                    4000                  6.40         Yes          1080   \n",
      "\n",
      "   Resolution y  Processor  RAM (MB)  Internal storage (GB)  Rear camera  \\\n",
      "0          3120          8     12000                  256.0         48.0   \n",
      "1          2400          8      6000                   64.0         64.0   \n",
      "2          2688          6      4000                   64.0         12.0   \n",
      "3          1792          6      4000                   64.0         12.0   \n",
      "4          2340          8      6000                  128.0         12.0   \n",
      "\n",
      "   Front camera Operating system Wi-Fi Bluetooth  GPS  Number of SIMs   3G  \\\n",
      "0          16.0          Android   Yes       Yes  Yes               2  Yes   \n",
      "1          16.0          Android   Yes       Yes  Yes               2  Yes   \n",
      "2          12.0              iOS   Yes       Yes  Yes               2  Yes   \n",
      "3          12.0              iOS   Yes       Yes  Yes               2  Yes   \n",
      "4          32.0          Android   Yes       Yes  Yes               1   No   \n",
      "\n",
      "  4G/ LTE   Price  \n",
      "0     Yes   58998  \n",
      "1     Yes   27999  \n",
      "2     Yes  106900  \n",
      "3     Yes   62900  \n",
      "4      No   49990  \n"
     ]
    }
   ],
   "source": [
    "import pandas as pd\n",
    "\n",
    "# Load the dataset\n",
    "data = pd.read_csv('ndtv_phones.csv')\n",
    "\n",
    "# Display the first few rows of the dataset\n",
    "print(data.head())\n"
   ]
  },
  {
   "cell_type": "code",
   "execution_count": 5,
   "metadata": {},
   "outputs": [
    {
     "name": "stdout",
     "output_type": "stream",
     "text": [
      "Battery capacity (mAh)    0\n",
      "Screen size (inches)      0\n",
      "Touchscreen               0\n",
      "Resolution x              0\n",
      "Resolution y              0\n",
      "Processor                 0\n",
      "RAM (MB)                  0\n",
      "Internal storage (GB)     0\n",
      "Rear camera               0\n",
      "Front camera              0\n",
      "Operating system          0\n",
      "Wi-Fi                     0\n",
      "Bluetooth                 0\n",
      "GPS                       0\n",
      "Number of SIMs            0\n",
      "3G                        0\n",
      "4G/ LTE                   0\n",
      "Price                     0\n",
      "dtype: int64\n"
     ]
    }
   ],
   "source": [
    "from sklearn.model_selection import train_test_split\n",
    "from sklearn.preprocessing import LabelEncoder\n",
    "\n",
    "# Check for missing values\n",
    "print(data.isnull().sum())\n",
    "\n",
    "# Fill missing values or drop them if necessary\n",
    "data = data.dropna()\n",
    "\n",
    "# Encode categorical variables\n",
    "label_encoders = {}\n",
    "for column in data.select_dtypes(include=['object']).columns:\n",
    "    le = LabelEncoder()\n",
    "    data[column] = le.fit_transform(data[column])\n",
    "    label_encoders[column] = le\n",
    "\n",
    "# Split the data into features and target variable\n",
    "X = data.drop(columns=['Price' ])\n",
    "y = data['Price']\n",
    "\n",
    "# Split into training and testing sets\n",
    "X_train, X_test, y_train, y_test = train_test_split(X, y, test_size=0.2, random_state=42)\n"
   ]
  },
  {
   "cell_type": "code",
   "execution_count": 6,
   "metadata": {},
   "outputs": [
    {
     "name": "stdout",
     "output_type": "stream",
     "text": [
      "Mean Absolute Error: 4108.952097832315\n"
     ]
    }
   ],
   "source": [
    "from sklearn.ensemble import RandomForestRegressor\n",
    "from sklearn.metrics import mean_absolute_error\n",
    "\n",
    "# Train the model\n",
    "model = RandomForestRegressor(n_estimators=100, random_state=42)\n",
    "model.fit(X_train, y_train)\n",
    "\n",
    "# Evaluate the model\n",
    "y_pred = model.predict(X_test)\n",
    "print(f'Mean Absolute Error: {mean_absolute_error(y_test, y_pred)}')\n"
   ]
  },
  {
   "cell_type": "code",
   "execution_count": 7,
   "metadata": {},
   "outputs": [
    {
     "data": {
      "text/plain": [
       "['mobile_price_model.pkl']"
      ]
     },
     "execution_count": 7,
     "metadata": {},
     "output_type": "execute_result"
    }
   ],
   "source": [
    "import joblib\n",
    "\n",
    "# Save the model\n",
    "joblib.dump(model, 'mobile_price_model.pkl')\n"
   ]
  }
 ],
 "metadata": {
  "kernelspec": {
   "display_name": "base",
   "language": "python",
   "name": "python3"
  },
  "language_info": {
   "codemirror_mode": {
    "name": "ipython",
    "version": 3
   },
   "file_extension": ".py",
   "mimetype": "text/x-python",
   "name": "python",
   "nbconvert_exporter": "python",
   "pygments_lexer": "ipython3",
   "version": "3.9.12"
  }
 },
 "nbformat": 4,
 "nbformat_minor": 2
}
